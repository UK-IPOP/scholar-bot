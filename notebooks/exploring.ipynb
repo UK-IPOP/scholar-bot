{
 "cells": [
  {
   "cell_type": "code",
   "execution_count": 1,
   "metadata": {
    "ExecuteTime": {
     "end_time": "2021-08-12T00:42:02.273520Z",
     "start_time": "2021-08-12T00:41:58.945412Z"
    }
   },
   "outputs": [],
   "source": [
    "import pandas as pd\n",
    "import plotly.express as px\n",
    "from scholar_bot.models import Scholar"
   ]
  },
  {
   "cell_type": "code",
   "execution_count": 20,
   "metadata": {
    "ExecuteTime": {
     "end_time": "2021-08-12T00:51:06.850202Z",
     "start_time": "2021-08-12T00:51:06.555047Z"
    }
   },
   "outputs": [
    {
     "data": {
      "text/html": [
       "<div>\n",
       "<style scoped>\n",
       "    .dataframe tbody tr th:only-of-type {\n",
       "        vertical-align: middle;\n",
       "    }\n",
       "\n",
       "    .dataframe tbody tr th {\n",
       "        vertical-align: top;\n",
       "    }\n",
       "\n",
       "    .dataframe thead th {\n",
       "        text-align: right;\n",
       "    }\n",
       "</style>\n",
       "<table border=\"1\" class=\"dataframe\">\n",
       "  <thead>\n",
       "    <tr style=\"text-align: right;\">\n",
       "      <th></th>\n",
       "      <th>ID</th>\n",
       "      <th>Name</th>\n",
       "      <th>Group</th>\n",
       "      <th>Designation</th>\n",
       "      <th>Entries</th>\n",
       "      <th>Citations</th>\n",
       "      <th>h-index</th>\n",
       "      <th>i10-index</th>\n",
       "    </tr>\n",
       "  </thead>\n",
       "  <tbody>\n",
       "    <tr>\n",
       "      <th>0</th>\n",
       "      <td>xiG6moYAAAAJ</td>\n",
       "      <td>Aaron Cook</td>\n",
       "      <td>Pharmacy Practice and Science</td>\n",
       "      <td>Faculty</td>\n",
       "      <td>145</td>\n",
       "      <td>2189</td>\n",
       "      <td>23</td>\n",
       "      <td>46</td>\n",
       "    </tr>\n",
       "    <tr>\n",
       "      <th>1</th>\n",
       "      <td>b25DsGsAAAAJ</td>\n",
       "      <td>Abby Bailey</td>\n",
       "      <td>Pharmacy Practice and Science</td>\n",
       "      <td>Faculty</td>\n",
       "      <td>53</td>\n",
       "      <td>320</td>\n",
       "      <td>8</td>\n",
       "      <td>8</td>\n",
       "    </tr>\n",
       "  </tbody>\n",
       "</table>\n",
       "</div>"
      ],
      "text/plain": [
       "             ID         Name                          Group Designation  \\\n",
       "0  xiG6moYAAAAJ   Aaron Cook  Pharmacy Practice and Science     Faculty   \n",
       "1  b25DsGsAAAAJ  Abby Bailey  Pharmacy Practice and Science     Faculty   \n",
       "\n",
       "   Entries  Citations  h-index  i10-index  \n",
       "0      145       2189       23         46  \n",
       "1       53        320        8          8  "
      ]
     },
     "execution_count": 20,
     "metadata": {},
     "output_type": "execute_result"
    }
   ],
   "source": [
    "df = pd.read_csv('https://raw.githubusercontent.com/UK-IPOP/cop-network-webapp/main/data/COPscholars.csv')\n",
    "df.head(2)"
   ]
  },
  {
   "cell_type": "code",
   "execution_count": 16,
   "metadata": {
    "ExecuteTime": {
     "end_time": "2021-08-12T00:46:10.853571Z",
     "start_time": "2021-08-12T00:46:10.846294Z"
    }
   },
   "outputs": [],
   "source": [
    "import os\n",
    "os.chdir('..')\n",
    "scholars = Scholar.make_scholars()\n",
    "os.chdir('notebooks')"
   ]
  },
  {
   "cell_type": "code",
   "execution_count": 4,
   "metadata": {
    "ExecuteTime": {
     "end_time": "2021-08-12T00:42:35.911369Z",
     "start_time": "2021-08-12T00:42:35.897228Z"
    }
   },
   "outputs": [
    {
     "data": {
      "text/plain": [
       "[Scholar(name='Aaron Cook', citations=2189, entries=145, h_index=23, i10_index=46),\n",
       " Scholar(name='Abby Bailey', citations=320, entries=53, h_index=8, i10_index=8),\n",
       " Scholar(name='Adam Sieg', citations=211, entries=29, h_index=8, i10_index=8),\n",
       " Scholar(name='Adrienne Matson', citations=66, entries=2, h_index=2, i10_index=2)]"
      ]
     },
     "execution_count": 4,
     "metadata": {},
     "output_type": "execute_result"
    }
   ],
   "source": [
    "scholars[:4]"
   ]
  },
  {
   "cell_type": "code",
   "execution_count": 12,
   "metadata": {
    "ExecuteTime": {
     "end_time": "2021-08-12T00:45:35.401813Z",
     "start_time": "2021-08-12T00:45:35.399050Z"
    }
   },
   "outputs": [],
   "source": [
    "for s in new_scholars:\n",
    "    s.h_index += 5"
   ]
  },
  {
   "cell_type": "code",
   "execution_count": 7,
   "metadata": {
    "ExecuteTime": {
     "end_time": "2021-08-12T00:44:08.815964Z",
     "start_time": "2021-08-12T00:44:08.811940Z"
    }
   },
   "outputs": [
    {
     "data": {
      "text/plain": [
       "[Scholar(name='Aaron Cook', citations=2189, entries=145, h_index=28, i10_index=46),\n",
       " Scholar(name='Abby Bailey', citations=320, entries=53, h_index=13, i10_index=8),\n",
       " Scholar(name='Adam Sieg', citations=211, entries=29, h_index=13, i10_index=8),\n",
       " Scholar(name='Adrienne Matson', citations=66, entries=2, h_index=7, i10_index=2)]"
      ]
     },
     "execution_count": 7,
     "metadata": {},
     "output_type": "execute_result"
    }
   ],
   "source": [
    "new_scholars[:4]"
   ]
  },
  {
   "cell_type": "code",
   "execution_count": 18,
   "metadata": {
    "ExecuteTime": {
     "end_time": "2021-08-12T00:46:18.967680Z",
     "start_time": "2021-08-12T00:46:18.964193Z"
    }
   },
   "outputs": [
    {
     "name": "stdout",
     "output_type": "stream",
     "text": [
      "10\n",
      "10\n",
      "10\n",
      "10\n",
      "10\n"
     ]
    }
   ],
   "source": [
    "for old, new in zip(scholars[:5], new_scholars[:5]):\n",
    "    print(new.h_index - old.h_index)"
   ]
  },
  {
   "cell_type": "code",
   "execution_count": null,
   "metadata": {},
   "outputs": [],
   "source": []
  }
 ],
 "metadata": {
  "hide_input": false,
  "interpreter": {
   "hash": "08eb6734f36d686a4825456c36ec23e4ce8241a789883c1da6506f7e3c848dc7"
  },
  "kernelspec": {
   "display_name": "Python 3 (ipykernel)",
   "language": "python",
   "name": "python3"
  },
  "language_info": {
   "codemirror_mode": {
    "name": "ipython",
    "version": 3
   },
   "file_extension": ".py",
   "mimetype": "text/x-python",
   "name": "python",
   "nbconvert_exporter": "python",
   "pygments_lexer": "ipython3",
   "version": "3.9.6"
  },
  "toc": {
   "base_numbering": 1,
   "nav_menu": {},
   "number_sections": true,
   "sideBar": true,
   "skip_h1_title": false,
   "title_cell": "Table of Contents",
   "title_sidebar": "Contents",
   "toc_cell": false,
   "toc_position": {},
   "toc_section_display": true,
   "toc_window_display": false
  },
  "varInspector": {
   "cols": {
    "lenName": 16,
    "lenType": 16,
    "lenVar": 40
   },
   "kernels_config": {
    "python": {
     "delete_cmd_postfix": "",
     "delete_cmd_prefix": "del ",
     "library": "var_list.py",
     "varRefreshCmd": "print(var_dic_list())"
    },
    "r": {
     "delete_cmd_postfix": ") ",
     "delete_cmd_prefix": "rm(",
     "library": "var_list.r",
     "varRefreshCmd": "cat(var_dic_list()) "
    }
   },
   "types_to_exclude": [
    "module",
    "function",
    "builtin_function_or_method",
    "instance",
    "_Feature"
   ],
   "window_display": false
  }
 },
 "nbformat": 4,
 "nbformat_minor": 2
}
